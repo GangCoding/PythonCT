{
 "cells": [
  {
   "cell_type": "code",
   "execution_count": 3,
   "metadata": {},
   "outputs": [
    {
     "name": "stdout",
     "output_type": "stream",
     "text": [
      "4\n",
      "1 3\n",
      "1 2\n",
      "2 3\n",
      "2 1\n",
      "[1, 2, 3]\n"
     ]
    }
   ],
   "source": [
    "## 1547\n",
    "\n",
    "M = int(input())\n",
    "\n",
    "list = [1, 2, 3]\n",
    "# 입력받기\n",
    "for i in range(M):\n",
    "    x, y = map(int, input().split())\n",
    "    \n",
    "    for j in range(3):\n",
    "        # x번 컵의 위치 찾아서 loc_1에 저장\n",
    "        if list[j] == x:\n",
    "            loc_1 = j\n",
    "            # x번 컵의 위치를 y번으로 변경\n",
    "            list[loc_1] = y\n",
    "        elif list[j] == y:\n",
    "            loc_2 = j\n",
    "            list[loc_2] = x\n",
    "\n",
    "print(list[0])"
   ]
  },
  {
   "cell_type": "code",
   "execution_count": 11,
   "metadata": {},
   "outputs": [
    {
     "name": "stdout",
     "output_type": "stream",
     "text": [
      "2735 1\n",
      "1\n"
     ]
    }
   ],
   "source": [
    "## 2501\n",
    "\n",
    "N, K = map(int, input().split())\n",
    "\n",
    "# N의 약수 구하기\n",
    "div = []\n",
    "\n",
    "for i in range(1,N+1):\n",
    "    if N % i == 0:\n",
    "        div.append(i)\n",
    "\n",
    "if len(div) < K:\n",
    "    print(0)\n",
    "else:\n",
    "    print(div[K-1])"
   ]
  }
 ],
 "metadata": {
  "kernelspec": {
   "display_name": "Python 3",
   "language": "python",
   "name": "python3"
  },
  "language_info": {
   "codemirror_mode": {
    "name": "ipython",
    "version": 3
   },
   "file_extension": ".py",
   "mimetype": "text/x-python",
   "name": "python",
   "nbconvert_exporter": "python",
   "pygments_lexer": "ipython3",
   "version": "3.8.5"
  }
 },
 "nbformat": 4,
 "nbformat_minor": 4
}
