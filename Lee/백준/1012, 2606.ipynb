{
 "cells": [
  {
   "cell_type": "code",
   "execution_count": 35,
   "metadata": {},
   "outputs": [
    {
     "name": "stdout",
     "output_type": "stream",
     "text": [
      "7\n",
      "6\n",
      "1 2\n",
      "2 3\n",
      "1 5\n",
      "5 2\n",
      "5 6\n",
      "4 7\n",
      "4\n"
     ]
    }
   ],
   "source": [
    "## 2606\n",
    "\n",
    "computer = int(input())\n",
    "pair = int(input())\n",
    "\n",
    "# 영행렬 생성\n",
    "network = [[0 for i in range(computer)] for j in range(computer)]\n",
    "\n",
    "# 방문 노드 리스트 생성\n",
    "visited = [False] * computer\n",
    "\n",
    "for i in range(pair):\n",
    "    a, b = map(int, input().split())\n",
    "    # 입력받은 a행 b열을 1로 바꿈\n",
    "    network[a-1][b-1] = 1\n",
    "    # 주대각원소를 맞춰줌\n",
    "    network[b-1][a-1] = network[a-1][b-1]\n",
    "\n",
    "# DFS 알고리즘\n",
    "def dfs(v, visited):\n",
    "    # 노드 방문 기록\n",
    "    visited[v] = True\n",
    "    for i in range(computer):\n",
    "        # v 노드와 연결된 노드를 찾는다\n",
    "        if network[v][i] == 1:\n",
    "            # 연결된 노드가 방문하지 않은 노드면 재귀함수를 실행\n",
    "            if not visited[i]:\n",
    "                dfs(i, visited)\n",
    "            else:\n",
    "                pass\n",
    "        else:\n",
    "            pass\n",
    "\n",
    "dfs(0, visited)\n",
    "output = visited.count(True)\n",
    "print(output-1)"
   ]
  },
  {
   "cell_type": "code",
   "execution_count": 12,
   "metadata": {},
   "outputs": [
    {
     "name": "stdout",
     "output_type": "stream",
     "text": [
      "1\n",
      "5 3 6\n",
      "0 2\n",
      "1 2\n",
      "2 2\n",
      "3 2\n",
      "4 2\n",
      "4 0\n",
      "[[1, 1, 1, 1, 1], [0, 0, 0, 0, 0], [0, 0, 0, 0, 1]]\n",
      "[[0, 0, 0, 1, 1], [0, 0, 0, 0, 0], [0, 0, 0, 0, 1]]\n",
      "1\n"
     ]
    }
   ],
   "source": [
    "#### 1012\n",
    "import sys\n",
    "sys.setrecursionlimit(100000)\n",
    "\n",
    "T = int(input())\n",
    "\n",
    "def dfs(x, y):\n",
    "    if x<=-1 or x>=N or y<=-1 or y>=M:\n",
    "        return False\n",
    "    if field[x][y] == 1:\n",
    "        field[x][y] = 0\n",
    "        dfs(x-1,y)\n",
    "        dfs(x+1,y)\n",
    "        dfs(x,y-1)\n",
    "        dfs(x,y+1)\n",
    "        return True\n",
    "    return False\n",
    "    \n",
    "\n",
    "for i in range(T):\n",
    "    M, N, K = map(int, input().split())\n",
    "    # 배추 밭 생성\n",
    "    field = [[0 for i in range(M)] for j in range(N)]\n",
    "    for k in range(K):\n",
    "        x, y = map(int, input().split())\n",
    "        field[y][x] = 1\n",
    "    result = 0\n",
    "    for i in range(N):\n",
    "        for j in range(M):\n",
    "            if dfs(i, j):\n",
    "                result += 1\n",
    "    \n",
    "    print(result)"
   ]
  },
  {
   "cell_type": "code",
   "execution_count": 5,
   "metadata": {},
   "outputs": [
    {
     "data": {
      "text/plain": [
       "'even'"
      ]
     },
     "execution_count": 5,
     "metadata": {},
     "output_type": "execute_result"
    }
   ],
   "source": [
    "def sm(k):\n",
    "    if k % 2 ==0:\n",
    "        sm(k+1)\n",
    "        return 'even'\n",
    "    else:\n",
    "        return 'odd'\n",
    "sm(2)"
   ]
  }
 ],
 "metadata": {
  "kernelspec": {
   "display_name": "Python 3",
   "language": "python",
   "name": "python3"
  },
  "language_info": {
   "codemirror_mode": {
    "name": "ipython",
    "version": 3
   },
   "file_extension": ".py",
   "mimetype": "text/x-python",
   "name": "python",
   "nbconvert_exporter": "python",
   "pygments_lexer": "ipython3",
   "version": "3.8.5"
  }
 },
 "nbformat": 4,
 "nbformat_minor": 4
}
