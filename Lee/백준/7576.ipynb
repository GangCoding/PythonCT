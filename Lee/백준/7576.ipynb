{
 "cells": [
  {
   "cell_type": "code",
   "execution_count": 1,
   "metadata": {},
   "outputs": [
    {
     "name": "stdout",
     "output_type": "stream",
     "text": [
      "6 4\n",
      "0 0 0 0 0 0\n",
      "0 0 0 0 0 0\n",
      "0 0 0 0 0 0\n",
      "0 0 0 0 0 1\n",
      "8\n"
     ]
    }
   ],
   "source": [
    "## 7576\n",
    "from collections import deque\n",
    "\n",
    "M, N = map(int, input().split())\n",
    "\n",
    "graph = [[] for i in range(N)]\n",
    "\n",
    "for i in range(N):\n",
    "    l = list(map(int, input().split()))\n",
    "    graph[i] = l\n",
    "\n",
    "queue = deque()\n",
    "\n",
    "for i in range(N):\n",
    "    for j in range(M):\n",
    "        if graph[i][j] == 1:\n",
    "            queue.append([i,j])\n",
    "            \n",
    "# 상하좌우\n",
    "dx = [-1, 1, 0, 0]\n",
    "dy = [0, 0, -1, 1]\n",
    "\n",
    "\n",
    "def bfs():\n",
    "    while queue:\n",
    "        x, y = queue.popleft()\n",
    "        for k in range(4):\n",
    "            # 동서남북 좌표 설정\n",
    "            nx = x + dx[k]\n",
    "            ny = y + dy[k]\n",
    "\n",
    "            # 범위를 벗어나면 무시\n",
    "            if nx < 0 or ny < 0 or nx >= N or ny >= M:\n",
    "                continue\n",
    "\n",
    "            # 토마토가 없으면 무시\n",
    "            if graph[nx][ny] == -1:\n",
    "                continue\n",
    "\n",
    "            # 토마토가 있고 처음 방문한 경우\n",
    "            if graph[nx][ny] == 0:\n",
    "                # 방문한 곳은 0으로 바꾼다\n",
    "                graph[nx][ny] = graph[x][y] + 1\n",
    "                queue.append((nx, ny))\n",
    "\n",
    "for i in range(N):\n",
    "        if 0 in graph[i] == False:\n",
    "            print(0)\n",
    "        else:\n",
    "            bfs()\n",
    "            \n",
    "answer_list = []\n",
    "for a in range(N):\n",
    "    if 0 in graph[a]:\n",
    "        answer_list.append(-1)\n",
    "    if not 0 in graph[a]:\n",
    "        answer_list.append(max(graph[a]) -1 )\n",
    "            \n",
    "if -1 in answer_list:\n",
    "    print(-1)\n",
    "else:\n",
    "    print(max(answer_list))\n",
    "            "
   ]
  }
 ],
 "metadata": {
  "kernelspec": {
   "display_name": "Python 3",
   "language": "python",
   "name": "python3"
  },
  "language_info": {
   "codemirror_mode": {
    "name": "ipython",
    "version": 3
   },
   "file_extension": ".py",
   "mimetype": "text/x-python",
   "name": "python",
   "nbconvert_exporter": "python",
   "pygments_lexer": "ipython3",
   "version": "3.8.5"
  }
 },
 "nbformat": 4,
 "nbformat_minor": 4
}
