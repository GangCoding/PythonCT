{
 "cells": [
  {
   "cell_type": "code",
   "execution_count": 58,
   "metadata": {},
   "outputs": [
    {
     "name": "stdout",
     "output_type": "stream",
     "text": [
      "7\n",
      "0110100\n",
      "0110101\n",
      "1110101\n",
      "0000111\n",
      "0100000\n",
      "0111110\n",
      "0111000\n",
      "3\n",
      "7\n",
      "8\n",
      "9\n"
     ]
    }
   ],
   "source": [
    "## 2667\n",
    "from collections import deque\n",
    "\n",
    "N = int(input())\n",
    "\n",
    "graph = [[] for _ in range(N)]\n",
    "\n",
    "for i in range(N):\n",
    "    l = list(map(int, input()))\n",
    "    graph[i] = l\n",
    "    \n",
    "house_x, house_y = [], []\n",
    "\n",
    "for i in range(N):\n",
    "    for j in range(N):\n",
    "        if graph[i][j] == 1:\n",
    "            house_x.append(i)\n",
    "            house_y.append(j)\n",
    "\n",
    "# 상하좌우\n",
    "dx = [-1, 1, 0, 0]\n",
    "dy = [0, 0, -1, 1]\n",
    "\n",
    "answer_list = []\n",
    "\n",
    "def bfs():\n",
    "    queue = deque()\n",
    "    result_a = 0\n",
    "    for i in range(N):\n",
    "        for j in range(N):\n",
    "            if graph[i][j] == 1:\n",
    "                result_a += 1\n",
    "                queue.append((i, j))\n",
    "                result_b = 0\n",
    "                while queue:\n",
    "                    x, y = queue.popleft()\n",
    "                    for k in range(4):\n",
    "                        # 동서남북 좌표 설정\n",
    "                        nx = x + dx[k]\n",
    "                        ny = y + dy[k]\n",
    "\n",
    "                        # 범위를 벗어나면 무시\n",
    "                        if nx < 0 or ny < 0 or nx >= N or ny >= N:\n",
    "                            continue\n",
    "\n",
    "                        # 집이 없으면 무시\n",
    "                        if graph[nx][ny] == 0:\n",
    "                            continue\n",
    "\n",
    "                        # 집이 있고 처음 방문한 경우\n",
    "                        if graph[nx][ny] == 1:\n",
    "                            # 방문한 곳은 0으로 바꾼다\n",
    "                            graph[nx][ny] = 0\n",
    "                            queue.append((nx, ny))\n",
    "                            result_b += 1\n",
    "                answer_list.append(result_b)\n",
    "    print(result_a)\n",
    "    answer_list.sort()\n",
    "    for i in range(len(answer_list)):\n",
    "        if answer_list[i] == 0:\n",
    "            answer_list[i] = 1\n",
    "        print(answer_list[i])\n",
    "bfs()\n",
    "\n"
   ]
  },
  {
   "cell_type": "code",
   "execution_count": 47,
   "metadata": {},
   "outputs": [
    {
     "name": "stdout",
     "output_type": "stream",
     "text": [
      "5\n",
      "10101\n",
      "01100\n",
      "11000\n",
      "00001\n",
      "01001\n",
      "[[1, 0, 3, 0, 1], [0, 3, 2, 0, 0], [5, 4, 0, 0, 0], [0, 0, 0, 0, 3], [0, 1, 0, 0, 2]]\n"
     ]
    }
   ],
   "source": [
    "from collections import deque\n",
    "\n",
    "N = int(input())\n",
    "\n",
    "graph = [[] for _ in range(N)]\n",
    "\n",
    "for i in range(N):\n",
    "    l = list(map(int, input()))\n",
    "    graph[i] = l\n",
    "    \n",
    "house_x, house_y = [], []\n",
    "\n",
    "for i in range(N):\n",
    "    for j in range(N):\n",
    "        if graph[i][j] == 1:\n",
    "            house_x.append(i)\n",
    "            house_y.append(j)\n",
    "\n",
    "# 상하좌우\n",
    "dx = [-1, 1, 0, 0]\n",
    "dy = [0, 0, -1, 1]\n",
    "\n",
    "\n",
    "def bfs(x, y):\n",
    "    queue = deque()\n",
    "    queue.append((x, y))\n",
    "    while queue:\n",
    "        x, y = queue.popleft()\n",
    "        for i in range(4):\n",
    "            # 동서남북 좌표 설정\n",
    "            nx = x + dx[i]\n",
    "            ny = y + dy[i]\n",
    "\n",
    "            # 범위를 벗어나면 무시\n",
    "            if nx < 0 or ny < 0 or nx >= N or ny >= N:\n",
    "                continue\n",
    "            \n",
    "            # 집이 없으면 무시\n",
    "            if graph[nx][ny] == 0:\n",
    "                continue\n",
    "            \n",
    "            # 집이 있고 처음 방문한 경우\n",
    "            if graph[nx][ny] == 1:\n",
    "                # 방문한 곳은 0으로 바꾼다\n",
    "                graph[nx][ny] = 0\n",
    "                graph[nx][ny] = graph[x][y] + 1\n",
    "                queue.append((nx, ny))\n",
    "    \n",
    "\n",
    "for i in range(len(house_x)):\n",
    "    bfs(house_x[i], house_y[i])\n",
    "print(graph)"
   ]
  },
  {
   "cell_type": "code",
   "execution_count": 35,
   "metadata": {},
   "outputs": [
    {
     "name": "stdout",
     "output_type": "stream",
     "text": [
      "None\n"
     ]
    }
   ],
   "source": [
    "a = [3, 5, 2, 7]\n",
    "a = a.sort()\n",
    "print(a)"
   ]
  }
 ],
 "metadata": {
  "kernelspec": {
   "display_name": "Python 3",
   "language": "python",
   "name": "python3"
  },
  "language_info": {
   "codemirror_mode": {
    "name": "ipython",
    "version": 3
   },
   "file_extension": ".py",
   "mimetype": "text/x-python",
   "name": "python",
   "nbconvert_exporter": "python",
   "pygments_lexer": "ipython3",
   "version": "3.8.5"
  }
 },
 "nbformat": 4,
 "nbformat_minor": 4
}
