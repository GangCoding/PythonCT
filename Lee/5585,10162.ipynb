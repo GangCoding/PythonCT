{
 "cells": [
  {
   "cell_type": "code",
   "execution_count": null,
   "metadata": {},
   "outputs": [],
   "source": [
    "# 5585\n",
    "\n",
    "n = int(input())\n",
    "\n",
    "change = 1000 - n\n",
    "\n",
    "five_h = change // 500\n",
    "change = change - (five_h * 500)\n",
    "\n",
    "one_h = change // 100\n",
    "change = change - (one_h * 100)\n",
    "\n",
    "fifty = change // 50\n",
    "change = change - (fifty * 50)\n",
    "\n",
    "ten = change // 10\n",
    "change = change - (ten * 10)\n",
    "\n",
    "five = change // 5\n",
    "change = change - (five * 5)\n",
    "\n",
    "one = change // 1\n",
    "\n",
    "k = five_h + one_h + fifty + ten + five + one\n",
    "print(k)"
   ]
  },
  {
   "cell_type": "code",
   "execution_count": null,
   "metadata": {},
   "outputs": [],
   "source": [
    "# 10162\n",
    "\n",
    "time = int(input())\n",
    "\n",
    "if time % 10 == 0:\n",
    "    \n",
    "    A = time // 300\n",
    "    time = time - (300 * A)\n",
    "\n",
    "    B = time // 60\n",
    "    time = time - (60 * B)\n",
    "\n",
    "    C = time // 10\n",
    "    time = time - (10 * C)\n",
    "    \n",
    "    print(A, B, C, sep=' ')\n",
    "    \n",
    "else:\n",
    "    print(int(-1))"
   ]
  }
 ],
 "metadata": {
  "kernelspec": {
   "display_name": "Python 3",
   "language": "python",
   "name": "python3"
  },
  "language_info": {
   "codemirror_mode": {
    "name": "ipython",
    "version": 3
   },
   "file_extension": ".py",
   "mimetype": "text/x-python",
   "name": "python",
   "nbconvert_exporter": "python",
   "pygments_lexer": "ipython3",
   "version": "3.8.5"
  }
 },
 "nbformat": 4,
 "nbformat_minor": 4
}
